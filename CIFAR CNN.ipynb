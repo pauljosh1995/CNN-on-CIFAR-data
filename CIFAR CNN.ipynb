{
 "cells": [
  {
   "cell_type": "code",
   "execution_count": 1,
   "metadata": {},
   "outputs": [],
   "source": [
    "#Importing the libraries \n",
    "import tensorflow as tf \n",
    "import pandas as pd \n",
    "import numpy as np\n",
    "import matplotlib.pyplot as plt \n",
    "import seaborn as sns"
   ]
  },
  {
   "cell_type": "code",
   "execution_count": 2,
   "metadata": {},
   "outputs": [],
   "source": [
    "#Getting the data \n",
    "\n",
    "cifar_data = tf.keras.datasets.cifar10"
   ]
  },
  {
   "cell_type": "code",
   "execution_count": 3,
   "metadata": {},
   "outputs": [
    {
     "name": "stdout",
     "output_type": "stream",
     "text": [
      "Downloading data from https://www.cs.toronto.edu/~kriz/cifar-10-python.tar.gz\n",
      "170500096/170498071 [==============================] - 3s 0us/step\n"
     ]
    }
   ],
   "source": [
    "#Train test data loading \n",
    "\n",
    "(X_train , y_train) , (X_test , y_test) = cifar_data.load_data()"
   ]
  },
  {
   "cell_type": "code",
   "execution_count": 5,
   "metadata": {},
   "outputs": [
    {
     "name": "stdout",
     "output_type": "stream",
     "text": [
      "The shape of the training features is  (50000, 32, 32, 3)\n",
      "The shape of the testing features is  (10000, 32, 32, 3)\n",
      "The shape of the training labels is  (50000, 1)\n",
      "The shape of the testing labels is  (10000, 1)\n"
     ]
    }
   ],
   "source": [
    "#Checking the data shapes \n",
    "\n",
    "print('The shape of the training features is ' , X_train.shape)\n",
    "print('The shape of the testing features is ' , X_test.shape)\n",
    "print('The shape of the training labels is ' , y_train.shape)\n",
    "print('The shape of the testing labels is ' , y_test.shape)"
   ]
  },
  {
   "cell_type": "code",
   "execution_count": 8,
   "metadata": {},
   "outputs": [
    {
     "data": {
      "image/png": "[encoded data removed]",
      "text/plain": [
       "<Figure size 432x288 with 1 Axes>"
      ]
     },
     "metadata": {
      "needs_background": "light"
     },
     "output_type": "display_data"
    },
    {
     "name": "stdout",
     "output_type": "stream",
     "text": [
      "The label is [6]\n"
     ]
    }
   ],
   "source": [
    "#Inspecting random images \n",
    "\n",
    "plt.imshow(X_train[0])\n",
    "plt.show()\n",
    "print('The label is' , y_train[0])"
   ]
  },
  {
   "cell_type": "code",
   "execution_count": 9,
   "metadata": {},
   "outputs": [],
   "source": [
    "#Scaling the feature data \n",
    "\n",
    "X_train = X_train/255\n",
    "X_test = X_test/255"
   ]
  },
  {
   "cell_type": "code",
   "execution_count": 10,
   "metadata": {},
   "outputs": [
    {
     "data": {
      "text/plain": [
       "array([[[0.23137255, 0.24313725, 0.24705882],\n",
       "        [0.16862745, 0.18039216, 0.17647059],\n",
       "        [0.19607843, 0.18823529, 0.16862745],\n",
       "        ...,\n",
       "        [0.61960784, 0.51764706, 0.42352941],\n",
       "        [0.59607843, 0.49019608, 0.4       ],\n",
       "        [0.58039216, 0.48627451, 0.40392157]],\n",
       "\n",
       "       [[0.0627451 , 0.07843137, 0.07843137],\n",
       "        [0.        , 0.        , 0.        ],\n",
       "        [0.07058824, 0.03137255, 0.        ],\n",
       "        ...,\n",
       "        [0.48235294, 0.34509804, 0.21568627],\n",
       "        [0.46666667, 0.3254902 , 0.19607843],\n",
       "        [0.47843137, 0.34117647, 0.22352941]],\n",
       "\n",
       "       [[0.09803922, 0.09411765, 0.08235294],\n",
       "        [0.0627451 , 0.02745098, 0.        ],\n",
       "        [0.19215686, 0.10588235, 0.03137255],\n",
       "        ...,\n",
       "        [0.4627451 , 0.32941176, 0.19607843],\n",
       "        [0.47058824, 0.32941176, 0.19607843],\n",
       "        [0.42745098, 0.28627451, 0.16470588]],\n",
       "\n",
       "       ...,\n",
       "\n",
       "       [[0.81568627, 0.66666667, 0.37647059],\n",
       "        [0.78823529, 0.6       , 0.13333333],\n",
       "        [0.77647059, 0.63137255, 0.10196078],\n",
       "        ...,\n",
       "        [0.62745098, 0.52156863, 0.2745098 ],\n",
       "        [0.21960784, 0.12156863, 0.02745098],\n",
       "        [0.20784314, 0.13333333, 0.07843137]],\n",
       "\n",
       "       [[0.70588235, 0.54509804, 0.37647059],\n",
       "        [0.67843137, 0.48235294, 0.16470588],\n",
       "        [0.72941176, 0.56470588, 0.11764706],\n",
       "        ...,\n",
       "        [0.72156863, 0.58039216, 0.36862745],\n",
       "        [0.38039216, 0.24313725, 0.13333333],\n",
       "        [0.3254902 , 0.20784314, 0.13333333]],\n",
       "\n",
       "       [[0.69411765, 0.56470588, 0.45490196],\n",
       "        [0.65882353, 0.50588235, 0.36862745],\n",
       "        [0.70196078, 0.55686275, 0.34117647],\n",
       "        ...,\n",
       "        [0.84705882, 0.72156863, 0.54901961],\n",
       "        [0.59215686, 0.4627451 , 0.32941176],\n",
       "        [0.48235294, 0.36078431, 0.28235294]]])"
      ]
     },
     "execution_count": 10,
     "metadata": {},
     "output_type": "execute_result"
    }
   ],
   "source": [
    "#Inspecting a random image \n",
    "X_train[0]"
   ]
  },
  {
   "cell_type": "code",
   "execution_count": 11,
   "metadata": {},
   "outputs": [],
   "source": [
    "#Encoding the labels \n",
    "\n",
    "y_train_encoded = tf.keras.utils.to_categorical(y_train)\n",
    "y_test_encoded = tf.keras.utils.to_categorical(y_test)"
   ]
  },
  {
   "cell_type": "code",
   "execution_count": 31,
   "metadata": {},
   "outputs": [],
   "source": [
    "#Creating the model\n",
    "\n",
    "cnn_model = tf.keras.models.Sequential()"
   ]
  },
  {
   "cell_type": "code",
   "execution_count": 32,
   "metadata": {},
   "outputs": [],
   "source": [
    "#Adding layers to the model \n",
    "\n",
    "#Adding a convolutional layer \n",
    "cnn_model.add(tf.keras.layers.Conv2D(filters = 30 , \n",
    "                                     kernel_size = (4,4) , \n",
    "                                     input_shape = (32,32,3),\n",
    "                                     activation = 'relu'\n",
    "                                    ))"
   ]
  },
  {
   "cell_type": "code",
   "execution_count": 33,
   "metadata": {},
   "outputs": [],
   "source": [
    "#Adding a pooling layer \n",
    "cnn_model.add(tf.keras.layers.MaxPool2D(pool_size = (2,2)))"
   ]
  },
  {
   "cell_type": "code",
   "execution_count": 34,
   "metadata": {},
   "outputs": [],
   "source": [
    "#Adding a second convolutional layer \n",
    "cnn_model.add(tf.keras.layers.Conv2D(filters = 20 , \n",
    "                                     kernel_size = (4,4) , \n",
    "                                     input_shape = (32,32,3),\n",
    "                                     activation = 'relu'\n",
    "                                    ))"
   ]
  },
  {
   "cell_type": "code",
   "execution_count": 35,
   "metadata": {},
   "outputs": [],
   "source": [
    "#Adding a second  pooling layer \n",
    "cnn_model.add(tf.keras.layers.MaxPool2D(pool_size = (2,2)))"
   ]
  },
  {
   "cell_type": "code",
   "execution_count": 36,
   "metadata": {},
   "outputs": [],
   "source": [
    "#Flatten layer \n",
    "\n",
    "cnn_model.add(tf.keras.layers.Flatten())"
   ]
  },
  {
   "cell_type": "code",
   "execution_count": 37,
   "metadata": {},
   "outputs": [],
   "source": [
    "#First dense layer \n",
    "\n",
    "cnn_model.add(tf.keras.layers.Dense(units = 240 , activation = 'relu'))\n"
   ]
  },
  {
   "cell_type": "code",
   "execution_count": 38,
   "metadata": {},
   "outputs": [],
   "source": [
    "#Final dense layer \n",
    "\n",
    "cnn_model.add(tf.keras.layers.Dense(units = 10 , activation = 'softmax'))\n",
    "\n",
    "#We use softmax for multiclass classification "
   ]
  },
  {
   "cell_type": "code",
   "execution_count": 39,
   "metadata": {},
   "outputs": [],
   "source": [
    "#Compiling the model\n",
    "\n",
    "cnn_model.compile(optimizer='SGD' , metrics=['accuracy'] , loss = 'categorical_crossentropy')\n",
    "\n",
    "#here we are additionally monitoring accuracy \n",
    "#categorical cross entropy is used for the sake of multiclass classification"
   ]
  },
  {
   "cell_type": "code",
   "execution_count": 40,
   "metadata": {},
   "outputs": [],
   "source": [
    "#Early stopping \n",
    "\n",
    "estop = tf.keras.callbacks.EarlyStopping(monitor = 'val_loss' , patience = 2)"
   ]
  },
  {
   "cell_type": "code",
   "execution_count": 42,
   "metadata": {},
   "outputs": [
    {
     "data": {
      "text/plain": [
       "<tensorflow.python.keras.callbacks.History at 0x13e03c1c188>"
      ]
     },
     "execution_count": 42,
     "metadata": {},
     "output_type": "execute_result"
    }
   ],
   "source": [
    "#Fitting the model\n",
    "\n",
    "cnn_model.fit(x = X_train , y = y_train_encoded , epochs=12 , callbacks= [estop] , verbose = 0 , \n",
    "             validation_data= (X_test , y_test_encoded))"
   ]
  },
  {
   "cell_type": "code",
   "execution_count": 44,
   "metadata": {},
   "outputs": [],
   "source": [
    "#Creating a metrics dataframe \n",
    "metrics = pd.DataFrame(cnn_model.history.history)"
   ]
  },
  {
   "cell_type": "code",
   "execution_count": 47,
   "metadata": {},
   "outputs": [
    {
     "data": {
      "text/plain": [
       "<matplotlib.axes._subplots.AxesSubplot at 0x13e55dae8c8>"
      ]
     },
     "execution_count": 47,
     "metadata": {},
     "output_type": "execute_result"
    },
    {
     "data": {
      "image/png": "[encoded data removed]",
      "text/plain": [
       "<Figure size 432x288 with 1 Axes>"
      ]
     },
     "metadata": {
      "needs_background": "light"
     },
     "output_type": "display_data"
    }
   ],
   "source": [
    "#Plotting the accuracy \n",
    "\n",
    "metrics[['accuracy' , 'val_accuracy']].plot()"
   ]
  },
  {
   "cell_type": "code",
   "execution_count": 48,
   "metadata": {},
   "outputs": [
    {
     "data": {
      "text/plain": [
       "<matplotlib.axes._subplots.AxesSubplot at 0x13e091db0c8>"
      ]
     },
     "execution_count": 48,
     "metadata": {},
     "output_type": "execute_result"
    },
    {
     "data": {
      "image/png": "[encoded data removed]",
      "text/plain": [
       "<Figure size 432x288 with 1 Axes>"
      ]
     },
     "metadata": {
      "needs_background": "light"
     },
     "output_type": "display_data"
    }
   ],
   "source": [
    "#plotting the loss\n",
    "metrics[['loss' , 'val_loss']].plot()"
   ]
  },
  {
   "cell_type": "code",
   "execution_count": 49,
   "metadata": {},
   "outputs": [
    {
     "name": "stdout",
     "output_type": "stream",
     "text": [
      "10000/10000 [==============================] - 9s 888us/sample - loss: 1.0756 - accuracy: 0.6254\n"
     ]
    },
    {
     "data": {
      "text/plain": [
       "[1.0756496673583984, 0.6254]"
      ]
     },
     "execution_count": 49,
     "metadata": {},
     "output_type": "execute_result"
    }
   ],
   "source": [
    "#Evaluating the model\n",
    "cnn_model.evaluate(X_test , y_test_encoded)"
   ]
  },
  {
   "cell_type": "code",
   "execution_count": 50,
   "metadata": {},
   "outputs": [],
   "source": [
    "#Making predictions \n",
    "\n",
    "preds = cnn_model.predict_classes(X_test)"
   ]
  },
  {
   "cell_type": "code",
   "execution_count": 51,
   "metadata": {},
   "outputs": [],
   "source": [
    "#Classification metrics\n",
    "\n",
    "from sklearn import metrics"
   ]
  },
  {
   "cell_type": "code",
   "execution_count": 52,
   "metadata": {},
   "outputs": [
    {
     "name": "stdout",
     "output_type": "stream",
     "text": [
      "              precision    recall  f1-score   support\n",
      "\n",
      "           0       0.57      0.75      0.65       762\n",
      "           1       0.70      0.78      0.74       893\n",
      "           2       0.33      0.67      0.45       498\n",
      "           3       0.47      0.43      0.45      1096\n",
      "           4       0.67      0.50      0.58      1338\n",
      "           5       0.58      0.52      0.55      1104\n",
      "           6       0.72      0.72      0.72      1001\n",
      "           7       0.65      0.73      0.69       889\n",
      "           8       0.83      0.63      0.72      1308\n",
      "           9       0.72      0.65      0.68      1111\n",
      "\n",
      "    accuracy                           0.63     10000\n",
      "   macro avg       0.63      0.64      0.62     10000\n",
      "weighted avg       0.65      0.63      0.63     10000\n",
      "\n"
     ]
    }
   ],
   "source": [
    "#Classification report \n",
    "\n",
    "print(metrics.classification_report(preds , y_test))"
   ]
  },
  {
   "cell_type": "code",
   "execution_count": 53,
   "metadata": {},
   "outputs": [
    {
     "name": "stdout",
     "output_type": "stream",
     "text": [
      "[[574  17  50  13  19   8   5   9  48  19]\n",
      " [ 25 698  11  11   1   7   9   2  29 100]\n",
      " [ 42   3 334  32  24  22  17  13   4   7]\n",
      " [ 28  18 116 475  77 193  85  54  25  25]\n",
      " [ 52   6 198 110 673  69  87 115  13  15]\n",
      " [ 15   6 117 191  50 578  27 103  10   7]\n",
      " [ 13   8  84  62  54  32 723   9   3  13]\n",
      " [ 12   5  38  32  58  55  13 650   8  18]\n",
      " [184  77  30  42  30  19  14  11 827  74]\n",
      " [ 55 162  22  32  14  17  20  34  33 722]]\n"
     ]
    }
   ],
   "source": [
    "#Confusion matrix \n",
    "\n",
    "print(metrics.confusion_matrix(preds , y_test))"
   ]
  },
  {
   "cell_type": "code",
   "execution_count": null,
   "metadata": {},
   "outputs": [],
   "source": []
  }
 ],
 "metadata": {
  "kernelspec": {
   "display_name": "Python 3",
   "language": "python",
   "name": "python3"
  },
  "language_info": {
   "codemirror_mode": {
    "name": "ipython",
    "version": 3
   },
   "file_extension": ".py",
   "mimetype": "text/x-python",
   "name": "python",
   "nbconvert_exporter": "python",
   "pygments_lexer": "ipython3",
   "version": "3.7.4"
  }
 },
 "nbformat": 4,
 "nbformat_minor": 2
}
